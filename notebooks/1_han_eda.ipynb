{
 "cells": [
  {
   "cell_type": "markdown",
   "metadata": {},
   "source": [
    "# Exploratory Data Analysis"
   ]
  },
  {
   "cell_type": "code",
   "execution_count": 1,
   "metadata": {},
   "outputs": [],
   "source": [
    "import sys\n",
    "import os\n",
    "sys.path.append(os.path.abspath('../data'))\n",
    "import pathlib\n",
    "import json\n",
    "from datetime import datetime\n",
    "\n",
    "import numpy as np\n",
    "import pandas as pd\n",
    "import gensim\n",
    "import spacy\n",
    "\n",
    "import seaborn as sns\n",
    "import matplotlib.pyplot as plt"
   ]
  },
  {
   "cell_type": "markdown",
   "metadata": {},
   "source": [
    "# 1. Data Loading"
   ]
  },
  {
   "cell_type": "code",
   "execution_count": 2,
   "metadata": {},
   "outputs": [],
   "source": [
    "data_root = pathlib.Path('../data')"
   ]
  },
  {
   "cell_type": "code",
   "execution_count": 3,
   "metadata": {},
   "outputs": [],
   "source": [
    "all_json_paths = list(data_root.glob('*.json'))\n",
    "all_json_paths = [str(path) for path in all_json_paths]"
   ]
  },
  {
   "cell_type": "code",
   "execution_count": 4,
   "metadata": {},
   "outputs": [
    {
     "data": {
      "text/plain": [
       "['..\\\\data\\\\Kickstarter_2019-01-17T03_20_02_630Z.json',\n",
       " '..\\\\data\\\\Kickstarter_2019-02-14T03_20_04_734Z.json',\n",
       " '..\\\\data\\\\Kickstarter_2019-03-14T03_20_12_200Z.json',\n",
       " '..\\\\data\\\\Kickstarter_2019-04-18T03_20_02_220Z.json',\n",
       " '..\\\\data\\\\Kickstarter_2019-05-16T03_20_20_822Z.json',\n",
       " '..\\\\data\\\\Kickstarter_2019-06-13T03_20_35_801Z.json',\n",
       " '..\\\\data\\\\Kickstarter_2019-07-18T03_20_05_009Z.json',\n",
       " '..\\\\data\\\\Kickstarter_2019-08-15T03_20_03_022Z.json']"
      ]
     },
     "execution_count": 4,
     "metadata": {},
     "output_type": "execute_result"
    }
   ],
   "source": [
    "all_json_paths"
   ]
  },
  {
   "cell_type": "code",
   "execution_count": 5,
   "metadata": {},
   "outputs": [
    {
     "name": "stdout",
     "output_type": "stream",
     "text": [
      "Wall time: 24.1 s\n"
     ]
    }
   ],
   "source": [
    "%%time\n",
    "data = []\n",
    "for line in open(all_json_paths[0], 'r', encoding='utf8'):\n",
    "    data.append(json.loads(line))\n",
    "    \n",
    "data = [record['data'] for record in data]\n",
    "df = pd.DataFrame.from_records(data)"
   ]
  },
  {
   "cell_type": "code",
   "execution_count": 6,
   "metadata": {},
   "outputs": [
    {
     "data": {
      "text/html": [
       "<div>\n",
       "<style scoped>\n",
       "    .dataframe tbody tr th:only-of-type {\n",
       "        vertical-align: middle;\n",
       "    }\n",
       "\n",
       "    .dataframe tbody tr th {\n",
       "        vertical-align: top;\n",
       "    }\n",
       "\n",
       "    .dataframe thead th {\n",
       "        text-align: right;\n",
       "    }\n",
       "</style>\n",
       "<table border=\"1\" class=\"dataframe\">\n",
       "  <thead>\n",
       "    <tr style=\"text-align: right;\">\n",
       "      <th></th>\n",
       "      <th>id</th>\n",
       "      <th>photo</th>\n",
       "      <th>name</th>\n",
       "      <th>blurb</th>\n",
       "      <th>goal</th>\n",
       "      <th>pledged</th>\n",
       "      <th>state</th>\n",
       "      <th>slug</th>\n",
       "      <th>disable_communication</th>\n",
       "      <th>country</th>\n",
       "      <th>...</th>\n",
       "      <th>location</th>\n",
       "      <th>category</th>\n",
       "      <th>profile</th>\n",
       "      <th>spotlight</th>\n",
       "      <th>urls</th>\n",
       "      <th>source_url</th>\n",
       "      <th>friends</th>\n",
       "      <th>is_starred</th>\n",
       "      <th>is_backing</th>\n",
       "      <th>permissions</th>\n",
       "    </tr>\n",
       "  </thead>\n",
       "  <tbody>\n",
       "    <tr>\n",
       "      <th>0</th>\n",
       "      <td>320897621</td>\n",
       "      <td>{'key': 'assets/013/884/141/51d672393d941b28a9...</td>\n",
       "      <td>A Date in 2025 - A sci-fi comedy short film</td>\n",
       "      <td>In the year 2025, a young man's superintellige...</td>\n",
       "      <td>4000.0</td>\n",
       "      <td>5265.82</td>\n",
       "      <td>successful</td>\n",
       "      <td>a-date-in-2025-a-sci-fi-comedy-short-film</td>\n",
       "      <td>False</td>\n",
       "      <td>US</td>\n",
       "      <td>...</td>\n",
       "      <td>{'id': 2442047, 'name': 'Los Angeles', 'slug':...</td>\n",
       "      <td>{'id': 32, 'name': 'Shorts', 'slug': 'film &amp; v...</td>\n",
       "      <td>{'id': 2696093, 'project_id': 2696093, 'state'...</td>\n",
       "      <td>True</td>\n",
       "      <td>{'web': {'project': 'https://www.kickstarter.c...</td>\n",
       "      <td>https://www.kickstarter.com/discover/categorie...</td>\n",
       "      <td>NaN</td>\n",
       "      <td>NaN</td>\n",
       "      <td>NaN</td>\n",
       "      <td>NaN</td>\n",
       "    </tr>\n",
       "    <tr>\n",
       "      <th>1</th>\n",
       "      <td>1504102568</td>\n",
       "      <td>{'key': 'assets/012/061/827/c4a4d3b58093abe6a7...</td>\n",
       "      <td>Replacement Place | New York Live Arts</td>\n",
       "      <td>Replacement Place needs your support to combat...</td>\n",
       "      <td>5000.0</td>\n",
       "      <td>5225.00</td>\n",
       "      <td>successful</td>\n",
       "      <td>replacement-place-new-york-live-arts</td>\n",
       "      <td>False</td>\n",
       "      <td>US</td>\n",
       "      <td>...</td>\n",
       "      <td>{'id': 2459115, 'name': 'New York', 'slug': 'n...</td>\n",
       "      <td>{'id': 254, 'name': 'Performances', 'slug': 'd...</td>\n",
       "      <td>{'id': 1755245, 'project_id': 1755245, 'state'...</td>\n",
       "      <td>True</td>\n",
       "      <td>{'web': {'project': 'https://www.kickstarter.c...</td>\n",
       "      <td>https://www.kickstarter.com/discover/categorie...</td>\n",
       "      <td>NaN</td>\n",
       "      <td>NaN</td>\n",
       "      <td>NaN</td>\n",
       "      <td>NaN</td>\n",
       "    </tr>\n",
       "    <tr>\n",
       "      <th>2</th>\n",
       "      <td>284827571</td>\n",
       "      <td>{'key': 'assets/018/209/038/4d46d6bed9b83d4e9a...</td>\n",
       "      <td>Pumpkin Spice Love!</td>\n",
       "      <td>Pumpkin Spice Love - A Pumpkin Spice 4 Life 30...</td>\n",
       "      <td>250.0</td>\n",
       "      <td>362.00</td>\n",
       "      <td>successful</td>\n",
       "      <td>pumpkin-spice-love</td>\n",
       "      <td>False</td>\n",
       "      <td>US</td>\n",
       "      <td>...</td>\n",
       "      <td>{'id': 2406949, 'name': 'Franklin', 'slug': 'f...</td>\n",
       "      <td>{'id': 262, 'name': 'Accessories', 'slug': 'fa...</td>\n",
       "      <td>{'id': 3132385, 'project_id': 3132385, 'state'...</td>\n",
       "      <td>True</td>\n",
       "      <td>{'web': {'project': 'https://www.kickstarter.c...</td>\n",
       "      <td>https://www.kickstarter.com/discover/categorie...</td>\n",
       "      <td>NaN</td>\n",
       "      <td>NaN</td>\n",
       "      <td>NaN</td>\n",
       "      <td>NaN</td>\n",
       "    </tr>\n",
       "    <tr>\n",
       "      <th>3</th>\n",
       "      <td>1384659155</td>\n",
       "      <td>{'key': 'assets/012/230/880/ae49c9a5a737288f0f...</td>\n",
       "      <td>Pirate Mama</td>\n",
       "      <td>Single mama and her 4-year old sail with all-f...</td>\n",
       "      <td>15000.0</td>\n",
       "      <td>15678.00</td>\n",
       "      <td>successful</td>\n",
       "      <td>pirate-mama-setting-sail-with-her-little-boy</td>\n",
       "      <td>False</td>\n",
       "      <td>US</td>\n",
       "      <td>...</td>\n",
       "      <td>{'id': 2356566, 'name': 'Asheville', 'slug': '...</td>\n",
       "      <td>{'id': 13, 'name': 'Journalism', 'slug': 'jour...</td>\n",
       "      <td>{'id': 2079775, 'project_id': 2079775, 'state'...</td>\n",
       "      <td>True</td>\n",
       "      <td>{'web': {'project': 'https://www.kickstarter.c...</td>\n",
       "      <td>https://www.kickstarter.com/discover/categorie...</td>\n",
       "      <td>NaN</td>\n",
       "      <td>NaN</td>\n",
       "      <td>NaN</td>\n",
       "      <td>NaN</td>\n",
       "    </tr>\n",
       "    <tr>\n",
       "      <th>4</th>\n",
       "      <td>1244590413</td>\n",
       "      <td>{'key': 'assets/014/686/681/f58b7c12e1896e532c...</td>\n",
       "      <td>SparKit - Miniature Electrostatic Generator</td>\n",
       "      <td>SparKit wishes to produce kit-set Wimshurst Ma...</td>\n",
       "      <td>2500.0</td>\n",
       "      <td>11412.00</td>\n",
       "      <td>successful</td>\n",
       "      <td>sparkit-miniature-electrostatic-generator</td>\n",
       "      <td>False</td>\n",
       "      <td>NZ</td>\n",
       "      <td>...</td>\n",
       "      <td>{'id': 2348327, 'name': 'Christchurch', 'slug'...</td>\n",
       "      <td>{'id': 334, 'name': 'DIY Electronics', 'slug':...</td>\n",
       "      <td>{'id': 2688334, 'project_id': 2688334, 'state'...</td>\n",
       "      <td>True</td>\n",
       "      <td>{'web': {'project': 'https://www.kickstarter.c...</td>\n",
       "      <td>https://www.kickstarter.com/discover/categorie...</td>\n",
       "      <td>NaN</td>\n",
       "      <td>NaN</td>\n",
       "      <td>NaN</td>\n",
       "      <td>NaN</td>\n",
       "    </tr>\n",
       "  </tbody>\n",
       "</table>\n",
       "<p>5 rows × 37 columns</p>\n",
       "</div>"
      ],
      "text/plain": [
       "           id                                              photo  \\\n",
       "0   320897621  {'key': 'assets/013/884/141/51d672393d941b28a9...   \n",
       "1  1504102568  {'key': 'assets/012/061/827/c4a4d3b58093abe6a7...   \n",
       "2   284827571  {'key': 'assets/018/209/038/4d46d6bed9b83d4e9a...   \n",
       "3  1384659155  {'key': 'assets/012/230/880/ae49c9a5a737288f0f...   \n",
       "4  1244590413  {'key': 'assets/014/686/681/f58b7c12e1896e532c...   \n",
       "\n",
       "                                          name  \\\n",
       "0  A Date in 2025 - A sci-fi comedy short film   \n",
       "1       Replacement Place | New York Live Arts   \n",
       "2                          Pumpkin Spice Love!   \n",
       "3                                  Pirate Mama   \n",
       "4  SparKit - Miniature Electrostatic Generator   \n",
       "\n",
       "                                               blurb     goal   pledged  \\\n",
       "0  In the year 2025, a young man's superintellige...   4000.0   5265.82   \n",
       "1  Replacement Place needs your support to combat...   5000.0   5225.00   \n",
       "2  Pumpkin Spice Love - A Pumpkin Spice 4 Life 30...    250.0    362.00   \n",
       "3  Single mama and her 4-year old sail with all-f...  15000.0  15678.00   \n",
       "4  SparKit wishes to produce kit-set Wimshurst Ma...   2500.0  11412.00   \n",
       "\n",
       "        state                                          slug  \\\n",
       "0  successful     a-date-in-2025-a-sci-fi-comedy-short-film   \n",
       "1  successful          replacement-place-new-york-live-arts   \n",
       "2  successful                            pumpkin-spice-love   \n",
       "3  successful  pirate-mama-setting-sail-with-her-little-boy   \n",
       "4  successful     sparkit-miniature-electrostatic-generator   \n",
       "\n",
       "   disable_communication country  ...  \\\n",
       "0                  False      US  ...   \n",
       "1                  False      US  ...   \n",
       "2                  False      US  ...   \n",
       "3                  False      US  ...   \n",
       "4                  False      NZ  ...   \n",
       "\n",
       "                                            location  \\\n",
       "0  {'id': 2442047, 'name': 'Los Angeles', 'slug':...   \n",
       "1  {'id': 2459115, 'name': 'New York', 'slug': 'n...   \n",
       "2  {'id': 2406949, 'name': 'Franklin', 'slug': 'f...   \n",
       "3  {'id': 2356566, 'name': 'Asheville', 'slug': '...   \n",
       "4  {'id': 2348327, 'name': 'Christchurch', 'slug'...   \n",
       "\n",
       "                                            category  \\\n",
       "0  {'id': 32, 'name': 'Shorts', 'slug': 'film & v...   \n",
       "1  {'id': 254, 'name': 'Performances', 'slug': 'd...   \n",
       "2  {'id': 262, 'name': 'Accessories', 'slug': 'fa...   \n",
       "3  {'id': 13, 'name': 'Journalism', 'slug': 'jour...   \n",
       "4  {'id': 334, 'name': 'DIY Electronics', 'slug':...   \n",
       "\n",
       "                                             profile  spotlight  \\\n",
       "0  {'id': 2696093, 'project_id': 2696093, 'state'...       True   \n",
       "1  {'id': 1755245, 'project_id': 1755245, 'state'...       True   \n",
       "2  {'id': 3132385, 'project_id': 3132385, 'state'...       True   \n",
       "3  {'id': 2079775, 'project_id': 2079775, 'state'...       True   \n",
       "4  {'id': 2688334, 'project_id': 2688334, 'state'...       True   \n",
       "\n",
       "                                                urls  \\\n",
       "0  {'web': {'project': 'https://www.kickstarter.c...   \n",
       "1  {'web': {'project': 'https://www.kickstarter.c...   \n",
       "2  {'web': {'project': 'https://www.kickstarter.c...   \n",
       "3  {'web': {'project': 'https://www.kickstarter.c...   \n",
       "4  {'web': {'project': 'https://www.kickstarter.c...   \n",
       "\n",
       "                                          source_url  friends  is_starred  \\\n",
       "0  https://www.kickstarter.com/discover/categorie...      NaN         NaN   \n",
       "1  https://www.kickstarter.com/discover/categorie...      NaN         NaN   \n",
       "2  https://www.kickstarter.com/discover/categorie...      NaN         NaN   \n",
       "3  https://www.kickstarter.com/discover/categorie...      NaN         NaN   \n",
       "4  https://www.kickstarter.com/discover/categorie...      NaN         NaN   \n",
       "\n",
       "   is_backing  permissions  \n",
       "0         NaN          NaN  \n",
       "1         NaN          NaN  \n",
       "2         NaN          NaN  \n",
       "3         NaN          NaN  \n",
       "4         NaN          NaN  \n",
       "\n",
       "[5 rows x 37 columns]"
      ]
     },
     "execution_count": 6,
     "metadata": {},
     "output_type": "execute_result"
    }
   ],
   "source": [
    "df.head()"
   ]
  },
  {
   "cell_type": "code",
   "execution_count": 7,
   "metadata": {},
   "outputs": [],
   "source": [
    "cols = df.columns.to_list()"
   ]
  },
  {
   "cell_type": "code",
   "execution_count": 8,
   "metadata": {},
   "outputs": [
    {
     "data": {
      "text/plain": [
       "['id',\n",
       " 'photo',\n",
       " 'name',\n",
       " 'blurb',\n",
       " 'goal',\n",
       " 'pledged',\n",
       " 'state',\n",
       " 'slug',\n",
       " 'disable_communication',\n",
       " 'country',\n",
       " 'currency',\n",
       " 'currency_symbol',\n",
       " 'currency_trailing_code',\n",
       " 'deadline',\n",
       " 'state_changed_at',\n",
       " 'created_at',\n",
       " 'launched_at',\n",
       " 'staff_pick',\n",
       " 'is_starrable',\n",
       " 'backers_count',\n",
       " 'static_usd_rate',\n",
       " 'usd_pledged',\n",
       " 'converted_pledged_amount',\n",
       " 'fx_rate',\n",
       " 'current_currency',\n",
       " 'usd_type',\n",
       " 'creator',\n",
       " 'location',\n",
       " 'category',\n",
       " 'profile',\n",
       " 'spotlight',\n",
       " 'urls',\n",
       " 'source_url',\n",
       " 'friends',\n",
       " 'is_starred',\n",
       " 'is_backing',\n",
       " 'permissions']"
      ]
     },
     "execution_count": 8,
     "metadata": {},
     "output_type": "execute_result"
    }
   ],
   "source": [
    "cols"
   ]
  },
  {
   "cell_type": "markdown",
   "metadata": {},
   "source": [
    "# 2. Data Exploration\n",
    "From a UI perspective, we assume that the user will be utilizing the model before the campaign is launched. From that, we decide to focus on the most important ex ante fields first. That will be `name`, `blurb` (description), `goal` (amount to be raised), `country`, `duration` (campaign duration), `category`. The rest of the fields such as `usd_pledged`, `fx_rate`, `staff_pick`, etc, while relevant, are actually ex post information that user will not know before the campaign is launched.\n",
    "\n",
    "We will look at the pre-determined ex ante fields one by one to decide what frontend will supply to our model."
   ]
  },
  {
   "cell_type": "markdown",
   "metadata": {},
   "source": [
    "## 2.1 `goal` of the campaign, aka how much to raise"
   ]
  },
  {
   "cell_type": "code",
   "execution_count": 86,
   "metadata": {},
   "outputs": [
    {
     "data": {
      "image/png": "[encoded data removed]",
      "text/plain": [
       "<Figure size 432x288 with 1 Axes>"
      ]
     },
     "metadata": {
      "needs_background": "light"
     },
     "output_type": "display_data"
    }
   ],
   "source": [
    "assert df.goal.isnull().any() == False\n",
    "\n",
    "df.goal.plot.hist(bins=20);"
   ]
  },
  {
   "cell_type": "code",
   "execution_count": 87,
   "metadata": {},
   "outputs": [
    {
     "data": {
      "text/plain": [
       "0          4000.0\n",
       "1          5000.0\n",
       "2           250.0\n",
       "3         15000.0\n",
       "4          2500.0\n",
       "           ...   \n",
       "207843    80000.0\n",
       "207844     4500.0\n",
       "207845     2000.0\n",
       "207846     1500.0\n",
       "207847     3000.0\n",
       "Name: goal, Length: 207848, dtype: float64"
      ]
     },
     "execution_count": 87,
     "metadata": {},
     "output_type": "execute_result"
    }
   ],
   "source": [
    "df.goal"
   ]
  },
  {
   "cell_type": "markdown",
   "metadata": {},
   "source": [
    "## 2.2 `country` of the campaign\n",
    "`country` field appears to be using ISO 3166-1 alpha-2 two letter country codes"
   ]
  },
  {
   "cell_type": "code",
   "execution_count": 9,
   "metadata": {},
   "outputs": [
    {
     "data": {
      "text/plain": [
       "array(['US', 'NZ', 'CA', 'GB', 'SE', 'DK', 'IT', 'DE', 'AU', 'FR', 'IE',\n",
       "       'CH', 'ES', 'BE', 'NL', 'MX', 'JP', 'HK', 'AT', 'SG', 'NO', 'LU'],\n",
       "      dtype=object)"
      ]
     },
     "execution_count": 9,
     "metadata": {},
     "output_type": "execute_result"
    }
   ],
   "source": [
    "df.country.unique()"
   ]
  },
  {
   "cell_type": "code",
   "execution_count": 65,
   "metadata": {},
   "outputs": [
    {
     "data": {
      "image/png": "[encoded data removed]",
      "text/plain": [
       "<Figure size 432x288 with 1 Axes>"
      ]
     },
     "metadata": {
      "needs_background": "light"
     },
     "output_type": "display_data"
    }
   ],
   "source": [
    "sns.barplot(x = df.country.value_counts().values, y=df.country.value_counts().index);"
   ]
  },
  {
   "cell_type": "markdown",
   "metadata": {},
   "source": [
    "## 2.3 `duration` of the campaign\n",
    "Duration is not included as part of the field in the default kickstarter jsons. We would have to inference `duration` from  'deadline', 'state_changed_at', 'created_at', 'launched_at'."
   ]
  },
  {
   "cell_type": "code",
   "execution_count": 52,
   "metadata": {},
   "outputs": [],
   "source": [
    "df_times = df[['deadline', 'state_changed_at', 'created_at', 'launched_at']]"
   ]
  },
  {
   "cell_type": "code",
   "execution_count": 53,
   "metadata": {},
   "outputs": [
    {
     "data": {
      "text/html": [
       "<div>\n",
       "<style scoped>\n",
       "    .dataframe tbody tr th:only-of-type {\n",
       "        vertical-align: middle;\n",
       "    }\n",
       "\n",
       "    .dataframe tbody tr th {\n",
       "        vertical-align: top;\n",
       "    }\n",
       "\n",
       "    .dataframe thead th {\n",
       "        text-align: right;\n",
       "    }\n",
       "</style>\n",
       "<table border=\"1\" class=\"dataframe\">\n",
       "  <thead>\n",
       "    <tr style=\"text-align: right;\">\n",
       "      <th></th>\n",
       "      <th>deadline</th>\n",
       "      <th>state_changed_at</th>\n",
       "      <th>created_at</th>\n",
       "      <th>launched_at</th>\n",
       "    </tr>\n",
       "  </thead>\n",
       "  <tbody>\n",
       "    <tr>\n",
       "      <th>0</th>\n",
       "      <td>1477674323</td>\n",
       "      <td>1477674323</td>\n",
       "      <td>1474949898</td>\n",
       "      <td>1475082323</td>\n",
       "    </tr>\n",
       "    <tr>\n",
       "      <th>1</th>\n",
       "      <td>1431748740</td>\n",
       "      <td>1431748742</td>\n",
       "      <td>1425755444</td>\n",
       "      <td>1427920183</td>\n",
       "    </tr>\n",
       "    <tr>\n",
       "      <th>2</th>\n",
       "      <td>1506112227</td>\n",
       "      <td>1506112227</td>\n",
       "      <td>1504654576</td>\n",
       "      <td>1504902627</td>\n",
       "    </tr>\n",
       "    <tr>\n",
       "      <th>3</th>\n",
       "      <td>1446670945</td>\n",
       "      <td>1446670947</td>\n",
       "      <td>1440164389</td>\n",
       "      <td>1444075345</td>\n",
       "    </tr>\n",
       "    <tr>\n",
       "      <th>4</th>\n",
       "      <td>1486790794</td>\n",
       "      <td>1486790794</td>\n",
       "      <td>1474436782</td>\n",
       "      <td>1484198794</td>\n",
       "    </tr>\n",
       "  </tbody>\n",
       "</table>\n",
       "</div>"
      ],
      "text/plain": [
       "     deadline  state_changed_at  created_at  launched_at\n",
       "0  1477674323        1477674323  1474949898   1475082323\n",
       "1  1431748740        1431748742  1425755444   1427920183\n",
       "2  1506112227        1506112227  1504654576   1504902627\n",
       "3  1446670945        1446670947  1440164389   1444075345\n",
       "4  1486790794        1486790794  1474436782   1484198794"
      ]
     },
     "execution_count": 53,
     "metadata": {},
     "output_type": "execute_result"
    }
   ],
   "source": [
    "df_times.head()"
   ]
  },
  {
   "cell_type": "code",
   "execution_count": 54,
   "metadata": {},
   "outputs": [
    {
     "name": "stderr",
     "output_type": "stream",
     "text": [
      "c:\\users\\han-chung lee\\.virtualenvs\\ds-fcjldsbe\\lib\\site-packages\\ipykernel_launcher.py:2: SettingWithCopyWarning: \n",
      "A value is trying to be set on a copy of a slice from a DataFrame.\n",
      "Try using .loc[row_indexer,col_indexer] = value instead\n",
      "\n",
      "See the caveats in the documentation: http://pandas.pydata.org/pandas-docs/stable/user_guide/indexing.html#returning-a-view-versus-a-copy\n",
      "  \n"
     ]
    }
   ],
   "source": [
    "# getting the difference between launch and deadline in days and store it as durations\n",
    "df_times['durations'] = round((df_times.deadline - df_times.launched_at)/(60*60*24))"
   ]
  },
  {
   "cell_type": "code",
   "execution_count": 55,
   "metadata": {},
   "outputs": [
    {
     "data": {
      "text/html": [
       "<div>\n",
       "<style scoped>\n",
       "    .dataframe tbody tr th:only-of-type {\n",
       "        vertical-align: middle;\n",
       "    }\n",
       "\n",
       "    .dataframe tbody tr th {\n",
       "        vertical-align: top;\n",
       "    }\n",
       "\n",
       "    .dataframe thead th {\n",
       "        text-align: right;\n",
       "    }\n",
       "</style>\n",
       "<table border=\"1\" class=\"dataframe\">\n",
       "  <thead>\n",
       "    <tr style=\"text-align: right;\">\n",
       "      <th></th>\n",
       "      <th>deadline</th>\n",
       "      <th>state_changed_at</th>\n",
       "      <th>created_at</th>\n",
       "      <th>launched_at</th>\n",
       "      <th>durations</th>\n",
       "    </tr>\n",
       "  </thead>\n",
       "  <tbody>\n",
       "    <tr>\n",
       "      <th>0</th>\n",
       "      <td>2016-10-28</td>\n",
       "      <td>2016-10-28</td>\n",
       "      <td>2016-09-26</td>\n",
       "      <td>2016-09-28</td>\n",
       "      <td>30.0</td>\n",
       "    </tr>\n",
       "    <tr>\n",
       "      <th>1</th>\n",
       "      <td>2015-05-15</td>\n",
       "      <td>2015-05-15</td>\n",
       "      <td>2015-03-07</td>\n",
       "      <td>2015-04-01</td>\n",
       "      <td>44.0</td>\n",
       "    </tr>\n",
       "    <tr>\n",
       "      <th>2</th>\n",
       "      <td>2017-09-22</td>\n",
       "      <td>2017-09-22</td>\n",
       "      <td>2017-09-05</td>\n",
       "      <td>2017-09-08</td>\n",
       "      <td>14.0</td>\n",
       "    </tr>\n",
       "    <tr>\n",
       "      <th>3</th>\n",
       "      <td>2015-11-04</td>\n",
       "      <td>2015-11-04</td>\n",
       "      <td>2015-08-21</td>\n",
       "      <td>2015-10-05</td>\n",
       "      <td>30.0</td>\n",
       "    </tr>\n",
       "    <tr>\n",
       "      <th>4</th>\n",
       "      <td>2017-02-10</td>\n",
       "      <td>2017-02-10</td>\n",
       "      <td>2016-09-20</td>\n",
       "      <td>2017-01-11</td>\n",
       "      <td>30.0</td>\n",
       "    </tr>\n",
       "  </tbody>\n",
       "</table>\n",
       "</div>"
      ],
      "text/plain": [
       "     deadline state_changed_at  created_at launched_at  durations\n",
       "0  2016-10-28       2016-10-28  2016-09-26  2016-09-28       30.0\n",
       "1  2015-05-15       2015-05-15  2015-03-07  2015-04-01       44.0\n",
       "2  2017-09-22       2017-09-22  2017-09-05  2017-09-08       14.0\n",
       "3  2015-11-04       2015-11-04  2015-08-21  2015-10-05       30.0\n",
       "4  2017-02-10       2017-02-10  2016-09-20  2017-01-11       30.0"
      ]
     },
     "execution_count": 55,
     "metadata": {},
     "output_type": "execute_result"
    }
   ],
   "source": [
    "df_times.deadline = df_times.deadline.apply(lambda d: datetime.fromtimestamp(int(d)).strftime('%Y-%m-%d'))\n",
    "df_times.state_changed_at = df_times.state_changed_at.apply(lambda d: datetime.fromtimestamp(int(d)).strftime('%Y-%m-%d'))\n",
    "df_times.created_at = df_times.created_at.apply(lambda d: datetime.fromtimestamp(int(d)).strftime('%Y-%m-%d'))\n",
    "df_times.launched_at = df_times.launched_at.apply(lambda d: datetime.fromtimestamp(int(d)).strftime('%Y-%m-%d'))\n",
    "df_times.head()"
   ]
  },
  {
   "cell_type": "code",
   "execution_count": 56,
   "metadata": {},
   "outputs": [
    {
     "data": {
      "text/plain": [
       "30.0    93253\n",
       "60.0    16687\n",
       "45.0     8280\n",
       "31.0     7296\n",
       "35.0     5416\n",
       "        ...  \n",
       "73.0        4\n",
       "79.0        4\n",
       "83.0        2\n",
       "92.0        2\n",
       "93.0        2\n",
       "Name: durations, Length: 93, dtype: int64"
      ]
     },
     "execution_count": 56,
     "metadata": {},
     "output_type": "execute_result"
    }
   ],
   "source": [
    "df_times.durations.value_counts()"
   ]
  },
  {
   "cell_type": "code",
   "execution_count": 67,
   "metadata": {},
   "outputs": [
    {
     "data": {
      "image/png": "[encoded data removed]",
      "text/plain": [
       "<Figure size 432x288 with 1 Axes>"
      ]
     },
     "metadata": {
      "needs_background": "light"
     },
     "output_type": "display_data"
    }
   ],
   "source": [
    "sns.barplot(x = df_times.durations.value_counts().index, y=df_times.durations.value_counts().values);"
   ]
  },
  {
   "cell_type": "markdown",
   "metadata": {},
   "source": [
    "## 2.4 `category`\n",
    "\n",
    "`category` field is in json format."
   ]
  },
  {
   "cell_type": "code",
   "execution_count": 10,
   "metadata": {},
   "outputs": [
    {
     "name": "stdout",
     "output_type": "stream",
     "text": [
      "{'id': 32, 'name': 'Shorts', 'slug': 'film & video/shorts', 'position': 16, 'parent_id': 11, 'color': 16734574, 'urls': {'web': {'discover': 'http://www.kickstarter.com/discover/categories/film%20&%20video/shorts'}}}\n"
     ]
    }
   ],
   "source": [
    "print(df.category[0])"
   ]
  },
  {
   "cell_type": "code",
   "execution_count": 47,
   "metadata": {},
   "outputs": [
    {
     "name": "stdout",
     "output_type": "stream",
     "text": [
      "{'film & video', 'art', 'photography', 'dance', 'journalism', 'games', 'design', 'food', 'music', 'theater', 'comics', 'technology', 'crafts', 'fashion', 'publishing'}\n"
     ]
    }
   ],
   "source": [
    "cat_slug = [a['slug'] for a in df.category]\n",
    "cs = list(set(cat_slug))\n",
    "cat_list = []\n",
    "for c in cs:\n",
    "    cc = c.split('/')[0]\n",
    "    cat_list.append(cc)    \n",
    "print(set(cat_list))\n",
    "cat_list = list(set(cat_list))"
   ]
  },
  {
   "cell_type": "code",
   "execution_count": 48,
   "metadata": {},
   "outputs": [
    {
     "data": {
      "text/plain": [
       "['film & video',\n",
       " 'art',\n",
       " 'photography',\n",
       " 'dance',\n",
       " 'journalism',\n",
       " 'games',\n",
       " 'design',\n",
       " 'food',\n",
       " 'music',\n",
       " 'theater',\n",
       " 'comics',\n",
       " 'technology',\n",
       " 'crafts',\n",
       " 'fashion',\n",
       " 'publishing']"
      ]
     },
     "execution_count": 48,
     "metadata": {},
     "output_type": "execute_result"
    }
   ],
   "source": [
    "cat_list"
   ]
  },
  {
   "cell_type": "code",
   "execution_count": 59,
   "metadata": {},
   "outputs": [],
   "source": [
    "df['cat_slug'] = df.category.apply(lambda x: x['slug'].split('/')[0])#[0]['slug']"
   ]
  },
  {
   "cell_type": "code",
   "execution_count": 60,
   "metadata": {},
   "outputs": [
    {
     "data": {
      "text/plain": [
       "0    film & video\n",
       "1           dance\n",
       "2         fashion\n",
       "3      journalism\n",
       "4      technology\n",
       "5      journalism\n",
       "6             art\n",
       "7      journalism\n",
       "8          crafts\n",
       "9             art\n",
       "Name: cat_slug, dtype: object"
      ]
     },
     "execution_count": 60,
     "metadata": {},
     "output_type": "execute_result"
    }
   ],
   "source": [
    "df.cat_slug.head(10)"
   ]
  },
  {
   "cell_type": "code",
   "execution_count": 62,
   "metadata": {},
   "outputs": [
    {
     "data": {
      "image/png": "[encoded data removed]",
      "text/plain": [
       "<Figure size 432x288 with 1 Axes>"
      ]
     },
     "metadata": {
      "needs_background": "light"
     },
     "output_type": "display_data"
    }
   ],
   "source": [
    "sns.barplot(x = df.cat_slug.value_counts().values, y=df.cat_slug.value_counts().index);"
   ]
  },
  {
   "cell_type": "markdown",
   "metadata": {},
   "source": [
    "## 2.5 Training target `state`\n",
    "\n",
    "This is the target for which our model will be inferencing. `state` can be 'successful', 'failed', 'canceled', 'live', and 'suspended'.  Since our service will be doing ex ante inferencing, we will have to remove any campaign that is 'live', and we will consider 'canceled' and 'suspended' as 'failed'.  Judging from the plots below, the inference targets is not too inbalanced."
   ]
  },
  {
   "cell_type": "code",
   "execution_count": 18,
   "metadata": {},
   "outputs": [
    {
     "data": {
      "text/plain": [
       "array(['successful', 'failed', 'canceled', 'live', 'suspended'],\n",
       "      dtype=object)"
      ]
     },
     "execution_count": 18,
     "metadata": {},
     "output_type": "execute_result"
    }
   ],
   "source": [
    "df.state.unique()"
   ]
  },
  {
   "cell_type": "code",
   "execution_count": 66,
   "metadata": {},
   "outputs": [
    {
     "data": {
      "image/png": "[encoded data removed]",
      "text/plain": [
       "<Figure size 432x288 with 1 Axes>"
      ]
     },
     "metadata": {
      "needs_background": "light"
     },
     "output_type": "display_data"
    }
   ],
   "source": [
    "sns.barplot(x = df.state.value_counts().index, y=df.state.value_counts().values);"
   ]
  },
  {
   "cell_type": "markdown",
   "metadata": {},
   "source": [
    "# 3. Text Data Transformation\n",
    "\n",
    "There are two ways to tackle `name` and `blurb` text fields. First, we can train two separate supervised learning regression models that maps from preprocessed text to the `state` of the campaign, with successful being 1 and failed being 0. Those two models would then output a value with respect to the state of the campaign. We would then be able to use those values in the overall model with the other features to make an inference. This, in our opinion, will take significant amount of time to train.\n",
    "\n",
    "The proposed way, is to transform both `name` and `blurb` into a feature vector using word2vec (or in this case, doc2vec) deep learning NLP model. The gensim library has pre-built word2vec, sentence2vec, and doc2vec models. So, instead of building our own model to output some score, we choose to first experiment with gensim's build-in functionalities to shorten the research time."
   ]
  },
  {
   "cell_type": "code",
   "execution_count": null,
   "metadata": {},
   "outputs": [],
   "source": []
  }
 ],
 "metadata": {
  "kernelspec": {
   "display_name": "Python 3",
   "language": "python",
   "name": "python3"
  },
  "language_info": {
   "codemirror_mode": {
    "name": "ipython",
    "version": 3
   },
   "file_extension": ".py",
   "mimetype": "text/x-python",
   "name": "python",
   "nbconvert_exporter": "python",
   "pygments_lexer": "ipython3",
   "version": "3.7.3"
  }
 },
 "nbformat": 4,
 "nbformat_minor": 4
}
